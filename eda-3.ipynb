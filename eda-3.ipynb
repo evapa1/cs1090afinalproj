{
 "cells": [
  {
   "cell_type": "code",
<<<<<<< HEAD
   "execution_count": 22,
=======
   "execution_count": 1,
>>>>>>> a785168a3c199e3256c30c6415035a1cfc8ba610
   "metadata": {},
   "outputs": [],
   "source": [
    "import pandas as pd\n",
    "import matplotlib.pyplot as plt\n",
    "import numpy as np"
   ]
  },
  {
   "cell_type": "code",
<<<<<<< HEAD
   "execution_count": 23,
   "metadata": {},
   "outputs": [],
   "source": [
    "df = pd.read_csv('data.csv')"
=======
   "execution_count": 2,
   "metadata": {},
   "outputs": [],
   "source": [
    "# df = pd.read_csv('data.csv')\n",
    "df = pd.read_csv('/root/cs1090afinalproj/data.csv')"
>>>>>>> a785168a3c199e3256c30c6415035a1cfc8ba610
   ]
  },
  {
   "cell_type": "code",
<<<<<<< HEAD
   "execution_count": 24,
=======
   "execution_count": 3,
>>>>>>> a785168a3c199e3256c30c6415035a1cfc8ba610
   "metadata": {},
   "outputs": [],
   "source": [
    "df['HIMCAIDE'] = df['HIMCAIDE'].replace({\n",
<<<<<<< HEAD
    "    1: 'No',\n",
    "    2: 'Yes',\n",
    "    3: 'Yes'\n",
    "}).where(df['HIMCAIDE'].isin([1, 2, 3]), np.nan)\n",
    "\n",
    "df['HIMCAREE'] = df['HIMCAREE'].replace({\n",
    "    1: 'No',\n",
    "    2: 'Yes',\n",
    "    3: 'Yes'\n",
    "}).where(df['HIMCAREE'].isin([1, 2, 3]), np.nan)\n",
=======
    "    1: 0,\n",
    "    2: 1,\n",
    "    3: 1\n",
    "}).where(df['HIMCAIDE'].isin([1, 2, 3]), np.nan).astype('Int64')\n",
    "\n",
    "df['HIMCAREE'] = df['HIMCAREE'].replace({\n",
    "    1: 0,\n",
    "    2: 1,\n",
    "    3: 1\n",
    "}).where(df['HIMCAREE'].isin([1, 2, 3]), np.nan).astype('Int64')\n",
>>>>>>> a785168a3c199e3256c30c6415035a1cfc8ba610
    "\n",
    "df['HIP1RELPOLICY'] = df['HIP1RELPOLICY'].replace({\n",
    "    1: 'Child',\n",
    "    2: 'Spouse',\n",
    "    3: 'Other',\n",
    "    4: 'Other'\n",
    "}).where(df['HIP1RELPOLICY'].isin([1, 2, 3]), np.nan)"
   ]
  },
  {
   "cell_type": "code",
<<<<<<< HEAD
   "execution_count": 25,
=======
   "execution_count": 4,
>>>>>>> a785168a3c199e3256c30c6415035a1cfc8ba610
   "metadata": {},
   "outputs": [],
   "source": [
    "def replace_yes_no(column):\n",
<<<<<<< HEAD
    "    return column.replace({1: 'No', 2: 'Yes'}).where(column.isin([1, 2]), np.nan)\n",
    "\n",
    "cols_to_replace = ['HIPRIVATE', 'HISTATE', 'HICHIP', 'HIMILANY', 'HINOTYR', 'HIP1CVROTR',\n",
    "                   'HIP1CAID', 'HIP1CARE', 'HIP2CAID', 'HIP2CARE', 'HIP2OGOV',\n",
    "                   'MDEXUPADV', 'ARTHGLUPEV', 'ASTHMAEV', 'AUTISMEV']\n",
    "df[cols_to_replace] = df[cols_to_replace].apply(replace_yes_no)"
   ]
=======
    "    return column.replace({1: 0, 2: 1}).where(column.isin([1, 2]), np.nan).astype('Int64')\n",
    "\n",
    "cols_to_replace = ['HIPRIVATE', 'HISTATE', 'HICHIP', 'HIMILANY', 'HINOTYR', 'HIP1CVROTR',\n",
    "                   'HIP1CAID', 'HIP1CARE', 'HIP2CAID', 'HIP2CARE', 'HIP2OGOV',\n",
    "                   'MDEXUPADV', 'ARTHGLUPEV', 'ASTHMAEV', 'AUTISMEV','HOSPNGHT','THERAPYR','SAWMENT',\n",
    "                   'DELAYCOST', 'YDELAYMENTAL', 'DELAYINS','YDELAYMEDYR','YSKIMPMEDYR',\n",
    "                   'YSKIPMEDYR', 'HIPROBPAYR', 'HEALTHPROV', 'HINOTCOVE']\n",
    "df[cols_to_replace] = df[cols_to_replace].apply(replace_yes_no)"
   ]
  },
  {
   "cell_type": "code",
   "execution_count": 6,
   "metadata": {},
   "outputs": [],
   "source": [
    "df['REGION'] = df['REGION'].replace({1: 'Northeast', 2: 'North Central/Midwest', 3: 'South', 4: 'West'})"
   ]
  },
  {
   "cell_type": "code",
   "execution_count": 10,
   "metadata": {},
   "outputs": [
    {
     "name": "stderr",
     "output_type": "stream",
     "text": [
      "/tmp/ipykernel_6518/644390204.py:1: FutureWarning: Setting an item of incompatible dtype is deprecated and will raise an error in a future version of pandas. Value 'NAN' has dtype incompatible with int64, please explicitly cast to a compatible dtype first.\n",
      "  df.loc[df['SEX'].isin([7, 8, 9]), 'SEX'] = 'NAN'\n"
     ]
    }
   ],
   "source": [
    "df.loc[df['SEX'].isin([7, 8, 9]), 'SEX'] = np.nan\n",
    "df.loc[df['SEX'] == 1, 'SEX'] = 'Male'\n",
    "df.loc[df['SEX'] == 2, 'SEX'] = 'Female'"
   ]
  },
  {
   "cell_type": "code",
   "execution_count": 13,
   "metadata": {},
   "outputs": [
    {
     "name": "stderr",
     "output_type": "stream",
     "text": [
      "/tmp/ipykernel_6518/2630420770.py:1: FutureWarning: Setting an item of incompatible dtype is deprecated and will raise an error in a future version of pandas. Value 'NAN' has dtype incompatible with int64, please explicitly cast to a compatible dtype first.\n",
      "  df.loc[df['MARSTCUR'].isin([0, 9]), 'MARSTCUR'] = 'NAN'\n"
     ]
    }
   ],
   "source": [
    "df.loc[df['MARSTCUR'].isin([0, 9]), 'MARSTCUR'] = np.nan\n",
    "df.loc[df['MARSTCUR'] == 1, 'MARSTCUR'] = 'Married, spouse present'\n",
    "df.loc[df['MARSTCUR'] == 2, 'MARSTCUR'] = 'Married, spouse absent'\n",
    "df.loc[df['MARSTCUR'] == 3, 'MARSTCUR'] = 'Married, spouse in household unknown'\n",
    "df.loc[df['MARSTCUR'] == 4, 'MARSTCUR'] = 'Separated'\n",
    "df.loc[df['MARSTCUR'] == 5, 'MARSTCUR'] = 'Divorced'\n",
    "df.loc[df['MARSTCUR'] == 6, 'MARSTCUR'] = 'Widowed'\n",
    "df.loc[df['MARSTCUR'] == 7, 'MARSTCUR'] = 'Living with partner'\n",
    "df.loc[df['MARSTCUR'] == 8, 'MARSTCUR'] = 'Never Married'"
   ]
  },
  {
   "cell_type": "code",
   "execution_count": 17,
   "metadata": {},
   "outputs": [
    {
     "name": "stderr",
     "output_type": "stream",
     "text": [
      "/tmp/ipykernel_6518/3103665329.py:1: FutureWarning: Setting an item of incompatible dtype is deprecated and will raise an error in a future version of pandas. Value 'White' has dtype incompatible with int64, please explicitly cast to a compatible dtype first.\n",
      "  df.loc[df['RACENEW'] == 100, 'RACENEW'] = 'White'\n"
     ]
    }
   ],
   "source": [
    "df.loc[df['RACENEW'] == 100, 'RACENEW'] = 'White'\n",
    "df.loc[df['RACENEW'] == 510, 'RACENEW'] = 'Other Race and Multiple Race'\n",
    "df.loc[df['RACENEW'] == 200, 'RACENEW'] = 'Black/African American'\n",
    "df.loc[df['RACENEW'] == 542, 'RACENEW'] = 'American Indian/Alaska Native and Any Other Race'\n",
    "df.loc[df['RACENEW'] == 400, 'RACENEW'] = 'Asian only'\n",
    "df.loc[df['RACENEW'] == 300, 'RACENEW'] = 'American Indian/Alaska Native only'\n",
    "df.loc[df['RACENEW'].isin([997, 998, 999]), 'RACENEW'] = np.nan"
   ]
  },
  {
   "cell_type": "code",
   "execution_count": 20,
   "metadata": {},
   "outputs": [
    {
     "name": "stderr",
     "output_type": "stream",
     "text": [
      "/tmp/ipykernel_6518/399673819.py:3: FutureWarning: Setting an item of incompatible dtype is deprecated and will raise an error in a future version of pandas. Value 'NAN' has dtype incompatible with int64, please explicitly cast to a compatible dtype first.\n",
      "  df.loc[df['CITIZEN'].isin([7, 8, 9]), 'CITIZEN'] = 'NAN'\n"
     ]
    }
   ],
   "source": [
    "df.loc[df['CITIZEN'] == 1, 'CITIZEN'] = 0\n",
    "df.loc[df['CITIZEN'] == 2, 'CITIZEN'] = 1\n",
    "df.loc[df['CITIZEN'].isin([7, 8, 9]), 'CITIZEN'] = np.nan"
   ]
  },
  {
   "cell_type": "code",
   "execution_count": 23,
   "metadata": {},
   "outputs": [
    {
     "name": "stderr",
     "output_type": "stream",
     "text": [
      "/tmp/ipykernel_6518/3311825892.py:1: FutureWarning: Setting an item of incompatible dtype is deprecated and will raise an error in a future version of pandas. Value 'NAN' has dtype incompatible with int64, please explicitly cast to a compatible dtype first.\n",
      "  df.loc[df['ARMFEV'] == 0, 'ARMFEV'] = 'NAN'\n"
     ]
    }
   ],
   "source": [
    "df.loc[df['ARMFEV'] == 0, 'ARMFEV'] = np.nan"
   ]
  },
  {
   "cell_type": "code",
   "execution_count": 25,
   "metadata": {},
   "outputs": [],
   "source": [
    "df.loc[df['ARMFEV'] == 11, 'ARMFEV'] = 0\n",
    "df.loc[df['ARMFEV'] == 20, 'ARMFEV'] = 1\n",
    "df.loc[df['ARMFEV'].isin([98, 99, 97]), 'ARMFEV'] = np.nan\n",
    "df.loc[df['ARMFEV'] == 12, 'ARMFEV'] = 0"
   ]
  },
  {
   "cell_type": "code",
   "execution_count": 30,
   "metadata": {},
   "outputs": [],
   "source": [
    "df.loc[df['EDUC'] == 201, 'EDUC'] = 'High School Graduate'\n",
    "df.loc[df['EDUC'] == 301, 'EDUC'] = 'Some college, no degree'\n",
    "df.loc[df['EDUC'] == 0, 'EDUC'] = np.nan\n",
    "df.loc[df['EDUC'] == 505, 'EDUC'] = 'Professional School or Doctoral degree, topcoded (MD, DDS, DVM, JD, PhD, EdD)'\n",
    "df.loc[df['EDUC'] == 303, 'EDUC'] = 'AA degree: academic program'\n",
    "df.loc[df['EDUC'] == 400, 'EDUC'] = \"Bachelor's degree (BA,AB,BS,BBA)\"\n",
    "df.loc[df['EDUC'] == 202, 'EDUC'] = 'GED or equivalent'\n",
    "df.loc[df['EDUC'] == 103, 'EDUC'] = 'Grades 1-11 (no further detail)'\n",
    "df.loc[df['EDUC'] == 501, 'EDUC'] = \"Master's degree (MA,MS,Med,MBA)\"\n",
    "df.loc[df['EDUC'] == 302, 'EDUC'] = 'AA degree: technical/vocational/occupational'\n",
    "df.loc[df['EDUC'] == 116, 'EDUC'] = '12th grade, no diploma'\n",
    "df.loc[df['EDUC'] == 999, 'EDUC'] = np.nan\n",
    "df.loc[df['EDUC'] == 997, 'EDUC'] = np.nan"
   ]
  },
  {
   "cell_type": "code",
   "execution_count": 31,
   "metadata": {},
   "outputs": [
    {
     "name": "stderr",
     "output_type": "stream",
     "text": [
      "/tmp/ipykernel_6518/2736362787.py:1: FutureWarning: Setting an item of incompatible dtype is deprecated and will raise an error in a future version of pandas. Value 'Employed' has dtype incompatible with int64, please explicitly cast to a compatible dtype first.\n",
      "  df.loc[df['EMPSTAT'] == 100, 'EMPSTAT'] = 'Employed'\n"
     ]
    }
   ],
   "source": [
    "df.loc[df['EMPSTAT'] == 100, 'EMPSTAT'] = 'Employed'\n",
    "df.loc[df['EMPSTAT'] == 0, 'EMPSTAT'] = np.nan\n",
    "df.loc[df['EMPSTAT'] == 200, 'EMPSTAT'] = 'Not Employed'\n",
    "df.loc[df['EMPSTAT'] == 999, 'EMPSTAT'] = np.nan"
   ]
  },
  {
   "cell_type": "code",
   "execution_count": 39,
   "metadata": {},
   "outputs": [],
   "source": [
    "df.loc[df['EMPSTAT'] == 'Not Employed', 'EMPSTAT'] = 0\n",
    "df.loc[df['EMPSTAT'] == 'Employed', 'EMPSTAT'] = 1"
   ]
  },
  {
   "cell_type": "code",
   "execution_count": 41,
   "metadata": {},
   "outputs": [],
   "source": [
    "df.loc[df['HOURSWRK'].isin([97, 98, 99]), 'HOURSWRK'] = np.nan"
   ]
  },
  {
   "cell_type": "code",
   "execution_count": 4,
   "metadata": {},
   "outputs": [
    {
     "data": {
      "text/plain": [
       "array([2, 0, 1, 9, 8, 7])"
      ]
     },
     "execution_count": 4,
     "metadata": {},
     "output_type": "execute_result"
    }
   ],
   "source": [
    "df['EMPHI'].unique()"
   ]
  },
  {
   "cell_type": "code",
   "execution_count": 5,
   "metadata": {},
   "outputs": [],
   "source": [
    "df.loc[df['EMPHI'] == 0, 'EMPHI'] = np.nan\n",
    "df.loc[df['EMPHI'] == 1, 'EMPHI'] = 0\n",
    "df.loc[df['EMPHI'] == 2, 'EMPHI'] = 1\n",
    "df.loc[df['EMPHI'] == 9, 'EMPHI'] = np.nan\n",
    "df.loc[df['EMPHI'] == 8, 'EMPHI'] = np.nan\n",
    "df.loc[df['EMPHI'] == 7, 'EMPHI'] = np.nan"
   ]
  },
  {
   "cell_type": "code",
   "execution_count": 6,
   "metadata": {},
   "outputs": [
    {
     "data": {
      "text/plain": [
       "array([ 1., nan,  0.])"
      ]
     },
     "execution_count": 6,
     "metadata": {},
     "output_type": "execute_result"
    }
   ],
   "source": [
    "df['EMPHI'].unique()"
   ]
  },
  {
   "cell_type": "code",
   "execution_count": 7,
   "metadata": {},
   "outputs": [
    {
     "data": {
      "text/plain": [
       "0        0.0\n",
       "1        0.0\n",
       "2        NaN\n",
       "3        0.0\n",
       "4        NaN\n",
       "        ... \n",
       "35110    NaN\n",
       "35111    0.0\n",
       "35112    NaN\n",
       "35113    NaN\n",
       "35114    NaN\n",
       "Name: EMPHI, Length: 35115, dtype: float64"
      ]
     },
     "execution_count": 7,
     "metadata": {},
     "output_type": "execute_result"
    }
   ],
   "source": [
    "df['EMPHI'].unique()\n",
    "df['EMPHI']"
   ]
  },
  {
   "cell_type": "code",
   "execution_count": 34,
   "metadata": {},
   "outputs": [
    {
     "name": "stderr",
     "output_type": "stream",
     "text": [
      "/tmp/ipykernel_6518/3678331978.py:1: FutureWarning: Setting an item of incompatible dtype is deprecated and will raise an error in a future version of pandas. Value 'NAN' has dtype incompatible with int64, please explicitly cast to a compatible dtype first.\n",
      "  df.loc[df['GOTWELF'] == 0, 'GOTWELF'] = 'NAN'\n"
     ]
    }
   ],
   "source": [
    "df.loc[df['GOTWELF'] == 0, 'GOTWELF'] = np.nan\n",
    "df.loc[df['GOTWELF'] == 10, 'GOTWELF'] = 0\n",
    "df.loc[df['GOTWELF'] == 21, 'GOTWELF'] = 1\n",
    "df.loc[df['GOTWELF'] == 90, 'GOTWELF'] = np.nan\n",
    "df.loc[df['GOTWELF'] == 70, 'GOTWELF'] = np.nan\n",
    "df.loc[df['GOTWELF'] == 80, 'GOTWELF'] = np.nan"
   ]
  },
  {
   "cell_type": "code",
   "execution_count": 35,
   "metadata": {},
   "outputs": [
    {
     "name": "stderr",
     "output_type": "stream",
     "text": [
      "/tmp/ipykernel_6518/155645698.py:1: FutureWarning: Setting an item of incompatible dtype is deprecated and will raise an error in a future version of pandas. Value 'SSDI' has dtype incompatible with int64, please explicitly cast to a compatible dtype first.\n",
      "  df.loc[df['GOTRET'] == 2, 'GOTRET'] = 'SSDI'\n"
     ]
    }
   ],
   "source": [
    "df.loc[df['GOTRET'] == 2, 'GOTRET'] = 'SSDI'\n",
    "df.loc[df['GOTRET'] == 1, 'GOTRET'] = 'SSI'\n",
    "df.loc[df['GOTRET'].isin([9, 0, 7, 8]), 'GOTRET'] = np.nan"
   ]
  },
  {
   "cell_type": "code",
   "execution_count": 36,
   "metadata": {},
   "outputs": [
    {
     "name": "stderr",
     "output_type": "stream",
     "text": [
      "/tmp/ipykernel_6518/202163946.py:1: FutureWarning: Setting an item of incompatible dtype is deprecated and will raise an error in a future version of pandas. Value 'NAN' has dtype incompatible with int64, please explicitly cast to a compatible dtype first.\n",
      "  df.loc[df['WCHSSISSDI'] == 0, 'WCHSSISSDI'] = 'NAN'\n"
     ]
    }
   ],
   "source": [
    "df.loc[df['WCHSSISSDI'] == 0, 'WCHSSISSDI'] = np.nan\n",
    "df.loc[df['WCHSSISSDI'] == 1, 'WCHSSISSDI'] = 'SSI'\n",
    "df.loc[df['WCHSSISSDI'] == 2, 'WCHSSISSDI'] = 'SSDI'\n",
    "df.loc[df['WCHSSISSDI'] == 9, 'WCHSSISSDI'] = np.nan\n",
    "df.loc[df['WCHSSISSDI'] == 3, 'WCHSSISSDI'] = 'Both SSI and SSDI'"
   ]
  },
  {
   "cell_type": "code",
   "execution_count": 37,
   "metadata": {},
   "outputs": [
    {
     "name": "stderr",
     "output_type": "stream",
     "text": [
      "/tmp/ipykernel_6518/4128528502.py:1: FutureWarning: Setting an item of incompatible dtype is deprecated and will raise an error in a future version of pandas. Value 'Good' has dtype incompatible with int64, please explicitly cast to a compatible dtype first.\n",
      "  df.loc[df['HEALTH'] == 3, 'HEALTH'] = 'Good'\n"
     ]
    }
   ],
   "source": [
    "df.loc[df['HEALTH'] == 3, 'HEALTH'] = 'Good'\n",
    "df.loc[df['HEALTH'] == 2, 'HEALTH'] = 'Very Good'\n",
    "df.loc[df['HEALTH'] == 1, 'HEALTH'] = 'Excellent'\n",
    "df.loc[df['HEALTH'] == 4, 'HEALTH'] = 'Fair'\n",
    "df.loc[df['HEALTH'] == 5, 'HEALTH'] = 'Poor'\n",
    "df.loc[df['HEALTH'].isin([7, 9]), 'HEALTH'] = np.nan"
=======
    "df['DVINT'] = df['DVINT'].replace({\n",
    "    100: 'Never',\n",
    "    200: 'Less than 1 year',\n",
    "    201: 'Visits in the past 2 weeks',\n",
    "    202: '2 weeks to less than 6 months',\n",
    "    203: 'Under 6 months',\n",
    "    204: '6 months to less than 12 months',\n",
    "    300: '1 year or more',\n",
    "    301: '1 year',\n",
    "    302: '1 year to less than 2 years',\n",
    "    303: '1 year to less than 3 years',\n",
    "    304: '2 years to less than 3 years',\n",
    "    305: '2 years to less than 5 years',\n",
    "    306: '2 years',\n",
    "    307: '2 to 4 years',\n",
    "    308: '3 to 4 years',\n",
    "    309: '3 years to less than 5 years',\n",
    "    310: 'More than 3 years',\n",
    "    400: '5 years or more',\n",
    "    401: '5 to 9 years',\n",
    "    402: 'More than 10 years'\n",
    "}).where(df['DVINT'].isin(range(100,403)), np.nan)\n",
    "\n",
    "df['URGCAREYRNO'] = df['URGCAREYRNO'].replace({\n",
    "    0: '0 times',\n",
    "    1: '1 time',\n",
    "    2: '2 times',\n",
    "    3: '3 times',\n",
    "    4: '4 times',\n",
    "    5: '5+ times',\n",
    "}).where(df['URGCAREYRNO'].isin(range(0,6)), np.nan)\n",
    "\n",
    "df['ERYRNO'] = df['ERYRNO'].replace({\n",
    "    10: 'No visits',\n",
    "    20: '1 visit',\n",
    "    30: '2 to 3 visits',\n",
    "    31: '2 visits',\n",
    "    32: '3 visits',\n",
    "    40: '4 or more visits',\n",
    "    41: '4 to 9 visits',\n",
    "    42: '4 to 5 visits',\n",
    "    43: '6 to 7 visits',\n",
    "    44: '8 to 9 visits',\n",
    "    45: '10 to 12 visits',\n",
    "    46: '13 or more visits',\n",
    "    47: '13 to 15 visits',\n",
    "    48: '16 or more visits'\n",
    "}).where(df['ERYRNO'].isin(range(10,49)), np.nan)\n",
    "\n",
    "df['DVINTWELL'] = df['DVINTWELL'].replace({\n",
    "    0: 'Never',\n",
    "    1: 'Within the past year',\n",
    "    2: 'More than 1 year ago but less than 2 years ago',\n",
    "    3: 'More than 2 years ago but less than 3 years ago',\n",
    "    4: 'More than 3 years ago but less than 5 years ago',\n",
    "    5: 'More than 5 years ago but less than 10 years ago',\n",
    "    6: '10+ years ago'\n",
    "}).where(df['DVINTWELL'].isin(range(0,7)), np.nan)\n",
    "\n",
    "df['WORMEDBILL'] = df['WORMEDBILL'].replace({\n",
    "    1: 'Very worried',\n",
    "    2: 'Somewhat worried',\n",
    "    3: 'Not at all worried'\n",
    "}).where(df['WORMEDBILL'].isin(range(1,4)), np.nan)\n",
    "\n",
    "df['HICHIPE'] = np.select(\n",
    "    [df['HICHIPE'] == 10, df['HICHIPE'].isin(range(20, 23))],\n",
    "    [0, 1],\n",
    "    default=np.nan\n",
    ")\n",
    "\n",
    "df['HIMILITE'] = np.select(\n",
    "    [df['HIMILITE'] == 10, df['HIMILITE'].isin(range(20, 26))],\n",
    "    [0, 1],\n",
    "    default=np.nan\n",
    ")\n",
    "\n",
    "df['HIOTHGOVE'] = np.select(\n",
    "    [df['HIOTHGOVE'] == 10, df['HIOTHGOVE'].isin(range(20, 23))],\n",
    "    [0, 1],\n",
    "    default=np.nan\n",
    ")"
   ]
>>>>>>> a785168a3c199e3256c30c6415035a1cfc8ba610
  }
 ],
 "metadata": {
  "kernelspec": {
<<<<<<< HEAD
   "display_name": "Python 3.11.0 64-bit",
=======
   "display_name": "Python 3",
>>>>>>> a785168a3c199e3256c30c6415035a1cfc8ba610
   "language": "python",
   "name": "python3"
  },
  "language_info": {
   "codemirror_mode": {
    "name": "ipython",
    "version": 3
   },
   "file_extension": ".py",
   "mimetype": "text/x-python",
   "name": "python",
   "nbconvert_exporter": "python",
   "pygments_lexer": "ipython3",
<<<<<<< HEAD
   "version": "3.11.0"
  },
  "orig_nbformat": 4,
  "vscode": {
   "interpreter": {
    "hash": "aee8b7b246df8f9039afb4144a1f6fd8d2ca17a180786b69acc140d282b71a49"
   }
  }
=======
   "version": "3.12.5"
  },
  "orig_nbformat": 4
>>>>>>> a785168a3c199e3256c30c6415035a1cfc8ba610
 },
 "nbformat": 4,
 "nbformat_minor": 2
}

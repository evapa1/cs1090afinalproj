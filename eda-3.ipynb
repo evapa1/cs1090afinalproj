{
 "cells": [
  {
   "cell_type": "code",
   "execution_count": 22,
   "metadata": {},
   "outputs": [],
   "source": [
    "import pandas as pd\n",
    "import matplotlib.pyplot as plt\n",
    "import numpy as np"
   ]
  },
  {
   "cell_type": "code",
   "execution_count": 23,
   "metadata": {},
   "outputs": [],
   "source": [
    "df = pd.read_csv('data.csv')"
   ]
  },
  {
   "cell_type": "code",
   "execution_count": 24,
   "metadata": {},
   "outputs": [],
   "source": [
    "df['HIMCAIDE'] = df['HIMCAIDE'].replace({\n",
    "    1: 'No',\n",
    "    2: 'Yes',\n",
    "    3: 'Yes'\n",
    "}).where(df['HIMCAIDE'].isin([1, 2, 3]), np.nan)\n",
    "\n",
    "df['HIMCAREE'] = df['HIMCAREE'].replace({\n",
    "    1: 'No',\n",
    "    2: 'Yes',\n",
    "    3: 'Yes'\n",
    "}).where(df['HIMCAREE'].isin([1, 2, 3]), np.nan)\n",
    "\n",
    "df['HIP1RELPOLICY'] = df['HIP1RELPOLICY'].replace({\n",
    "    1: 'Child',\n",
    "    2: 'Spouse',\n",
    "    3: 'Other',\n",
    "    4: 'Other'\n",
    "}).where(df['HIP1RELPOLICY'].isin([1, 2, 3]), np.nan)"
   ]
  },
  {
   "cell_type": "code",
   "execution_count": 25,
   "metadata": {},
   "outputs": [],
   "source": [
    "def replace_yes_no(column):\n",
    "    return column.replace({1: 'No', 2: 'Yes'}).where(column.isin([1, 2]), np.nan)\n",
    "\n",
    "cols_to_replace = ['HIPRIVATE', 'HISTATE', 'HICHIP', 'HIMILANY', 'HINOTYR', 'HIP1CVROTR',\n",
    "                   'HIP1CAID', 'HIP1CARE', 'HIP2CAID', 'HIP2CARE', 'HIP2OGOV',\n",
    "                   'MDEXUPADV', 'ARTHGLUPEV', 'ASTHMAEV', 'AUTISMEV']\n",
    "df[cols_to_replace] = df[cols_to_replace].apply(replace_yes_no)"
   ]
  }
 ],
 "metadata": {
  "kernelspec": {
   "display_name": "Python 3.11.0 64-bit",
   "language": "python",
   "name": "python3"
  },
  "language_info": {
   "codemirror_mode": {
    "name": "ipython",
    "version": 3
   },
   "file_extension": ".py",
   "mimetype": "text/x-python",
   "name": "python",
   "nbconvert_exporter": "python",
   "pygments_lexer": "ipython3",
   "version": "3.11.0"
  },
  "orig_nbformat": 4,
  "vscode": {
   "interpreter": {
    "hash": "aee8b7b246df8f9039afb4144a1f6fd8d2ca17a180786b69acc140d282b71a49"
   }
  }
 },
 "nbformat": 4,
 "nbformat_minor": 2
}

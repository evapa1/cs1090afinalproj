{
 "cells": [
  {
   "cell_type": "code",
   "execution_count": 1,
   "metadata": {},
   "outputs": [],
   "source": [
    "import pandas as pd\n",
    "import matplotlib.pyplot as plt\n",
    "import numpy as np\n",
    "import seaborn as sns"
   ]
  },
  {
   "cell_type": "code",
   "execution_count": 2,
   "metadata": {},
   "outputs": [],
   "source": [
    "pd.set_option('display.max_columns', None)\n",
    "pd.set_option('display.max_rows', 10000)"
   ]
  },
  {
   "cell_type": "code",
   "execution_count": 3,
   "metadata": {},
   "outputs": [],
   "source": [
    "# load data\n",
    "df = pd.read_csv('nhis_00012.csv')"
   ]
  },
  {
   "cell_type": "code",
   "execution_count": 5,
   "metadata": {},
   "outputs": [],
   "source": [
    "df.head()\n",
    "df = df[(df['HIPRIVATEE'].isin([2,3])) & (df['ASTATFLG']==1)].copy()\n",
    "df.drop(columns=['NHISHID','NHISPID','SAMPWEIGHT','HIPRIVATEE','ASTATFLG','DVINTWELL','HINOTYR'],inplace=True)"
   ]
  },
  {
   "cell_type": "markdown",
   "metadata": {},
   "source": [
    "## Recoding Variables\n",
    "For readibility, we decided to recode certain variables. Categorical variables which were coded numerically were broken down into legible categories. Moreover, we changed variables we thought to be binary but were not coded as such to be 0 or 1. \n",
    "\n",
    "There's a couple of variables which are quite weird because of them existing in different universes. For example, non-smokers were not asked how often they smoked. Therefore, we switched the NaNs to a 0 in such cases. "
   ]
  },
  {
   "cell_type": "code",
   "execution_count": 7,
   "metadata": {},
   "outputs": [],
   "source": [
    "# recode HIMCAIDE\n",
    "df['HIMCAIDE'] = df['HIMCAIDE'].replace({\n",
    "    1: 0,\n",
    "    2: 1,\n",
    "    3: 1\n",
    "}).where(df['HIMCAIDE'].isin([1, 2, 3]), np.nan).astype('Int64')\n",
    "\n",
    "# recode HIMCAIRE\n",
    "df['HIMCAREE'] = df['HIMCAREE'].replace({\n",
    "    1: 0,\n",
    "    2: 1,\n",
    "    3: 1\n",
    "}).where(df['HIMCAREE'].isin([1, 2, 3]), np.nan).astype('Int64')"
   ]
  },
  {
   "cell_type": "code",
   "execution_count": 8,
   "metadata": {},
   "outputs": [],
   "source": [
    "# recode REGION\n",
    "df['REGION'] = df['REGION'].replace({1: 'Northeast', 2: 'North Central/Midwest', 3: 'South', 4: 'West'})\n",
    "\n",
    "# recode SEX\n",
    "df['SEX'] = df['SEX'].astype(object)\n",
    "df.loc[df['SEX'].isin([7, 8, 9]), 'SEX'] = np.nan\n",
    "df.loc[df['SEX'] == 1, 'SEX'] = 'Male'\n",
    "df.loc[df['SEX'] == 2, 'SEX'] = 'Female'\n",
    "\n",
    "# recode AGE\n",
    "df.loc[df['AGE'].isin([997,998,999]), 'AGE'] = np.nan\n",
    "\n",
    "# recode MARSTCUR\n",
    "df['MARSTCUR'] = df['MARSTCUR'].astype(object)\n",
    "df.loc[df['MARSTCUR'].isin([0, 9]), 'MARSTCUR'] = np.nan\n",
    "df.loc[df['MARSTCUR'] == 1, 'MARSTCUR'] = 'Married, spouse present'\n",
    "df.loc[df['MARSTCUR'] == 2, 'MARSTCUR'] = 'Married, spouse absent'\n",
    "df.loc[df['MARSTCUR'] == 3, 'MARSTCUR'] = 'Married, spouse in household unknown'\n",
    "df.loc[df['MARSTCUR'] == 4, 'MARSTCUR'] = 'Separated'\n",
    "df.loc[df['MARSTCUR'] == 5, 'MARSTCUR'] = 'Divorced'\n",
    "df.loc[df['MARSTCUR'] == 6, 'MARSTCUR'] = 'Widowed'\n",
    "df.loc[df['MARSTCUR'] == 7, 'MARSTCUR'] = 'Living with partner'\n",
    "df.loc[df['MARSTCUR'] == 8, 'MARSTCUR'] = 'Never Married'\n",
    "\n",
    "# recode RACENEW\n",
    "df['RACENEW'] = df['RACENEW'].astype(object)\n",
    "df.loc[df['RACENEW'] == 100, 'RACENEW'] = 'White'\n",
    "df.loc[df['RACENEW'] == 200, 'RACENEW'] = 'Black/African American'\n",
    "df.loc[df['RACENEW'] == 542, 'RACENEW'] = 'American Indian/Alaska Native and Any Other Race'\n",
    "df.loc[df['RACENEW'] == 400, 'RACENEW'] = 'Asian only'\n",
    "df.loc[df['RACENEW'] == 300, 'RACENEW'] = 'American Indian/Alaska Native only'\n",
    "df.loc[df['RACENEW'].isin([510, 997, 998, 999]), 'RACENEW'] = 'Other Race and Multiple Race' \n",
    "\n",
    "# recode CITIZEN\n",
    "df['CITIZEN'] = df['CITIZEN'].astype(object)\n",
    "df.loc[df['CITIZEN'] == 1, 'CITIZEN'] = 0\n",
    "df.loc[df['CITIZEN'] == 2, 'CITIZEN'] = 1\n",
    "df.loc[df['CITIZEN'].isin([7, 8, 9]), 'CITIZEN'] = np.nan\n",
    "\n",
    "# recode ARMFEV\n",
    "df['ARMFEV'] = df['ARMFEV'].astype(object)\n",
    "df.loc[df['ARMFEV'] == 0, 'ARMFEV'] = np.nan\n",
    "df.loc[df['ARMFEV'] == 11, 'ARMFEV'] = 0\n",
    "df.loc[df['ARMFEV'] == 20, 'ARMFEV'] = 1\n",
    "df.loc[df['ARMFEV'].isin([98, 99, 97]), 'ARMFEV'] = np.nan\n",
    "df.loc[df['ARMFEV'] == 12, 'ARMFEV'] = 0\n"
   ]
  },
  {
   "cell_type": "code",
   "execution_count": 9,
   "metadata": {},
   "outputs": [],
   "source": [
    "# recode EDUC\n",
    "df['EDUC'] = df['EDUC'].astype(object)\n",
    "df.loc[df['EDUC'] == 201, 'EDUC'] = 'High School Graduate'\n",
    "df.loc[df['EDUC'] == 301, 'EDUC'] = 'Some college, no degree'\n",
    "df.loc[df['EDUC'] == 0, 'EDUC'] = np.nan\n",
    "df.loc[df['EDUC'] == 505, 'EDUC'] = 'Professional School or Doctoral degree, topcoded (MD, DDS, DVM, JD, PhD, EdD)'\n",
    "df.loc[df['EDUC'] == 303, 'EDUC'] = 'AA degree: academic program'\n",
    "df.loc[df['EDUC'] == 400, 'EDUC'] = \"Bachelor's degree (BA,AB,BS,BBA)\"\n",
    "df.loc[df['EDUC'] == 202, 'EDUC'] = 'GED or equivalent'\n",
    "df.loc[df['EDUC'] == 103, 'EDUC'] = 'Grades 1-11 (no further detail)'\n",
    "df.loc[df['EDUC'] == 501, 'EDUC'] = \"Master's degree (MA,MS,Med,MBA)\"\n",
    "df.loc[df['EDUC'] == 302, 'EDUC'] = 'AA degree: technical/vocational/occupational'\n",
    "df.loc[df['EDUC'] == 116, 'EDUC'] = '12th grade, no diploma'\n",
    "df.loc[df['EDUC'] == 999, 'EDUC'] = np.nan\n",
    "df.loc[df['EDUC'] == 997, 'EDUC'] = np.nan"
   ]
  },
  {
   "cell_type": "code",
   "execution_count": 10,
   "metadata": {},
   "outputs": [],
   "source": [
    "# recode POVERTY\n",
    "df['POVERTY'] = df['POVERTY'].astype(object)\n",
    "df.loc[df['POVERTY'] == 11, 'POVERTY'] = 'Under 0.50'\n",
    "df.loc[df['POVERTY'] == 12, 'POVERTY'] = '0.50 to 0.74'\n",
    "df.loc[df['POVERTY'] == 13, 'POVERTY'] = '0.75 to 0.99'\n",
    "df.loc[df['POVERTY'] == 21, 'POVERTY'] = '1.00 to 1.24'\n",
    "df.loc[df['POVERTY'] == 22, 'POVERTY'] = '1.25 to 1.49'\n",
    "df.loc[df['POVERTY'] == 23, 'POVERTY'] = '1.50 to 1.74'\n",
    "df.loc[df['POVERTY'] == 24, 'POVERTY'] = '1.75 to 1.99'\n",
    "df.loc[df['POVERTY'] == 31, 'POVERTY'] = '2.00 to 2.49'\n",
    "df.loc[df['POVERTY'] == 32, 'POVERTY'] = '2.50 to 2.99'\n",
    "df.loc[df['POVERTY'] == 33, 'POVERTY'] = '3.00 to 3.49'\n",
    "df.loc[df['POVERTY'] == 34, 'POVERTY'] = '3.50 to 3.99'\n",
    "df.loc[df['POVERTY'] == 35, 'POVERTY'] = '4.00 to 4.49'\n",
    "df.loc[df['POVERTY'] == 36, 'POVERTY'] = '4.50 to 4.99'\n",
    "df.loc[df['POVERTY'] == 37, 'POVERTY'] = '5.00 and over'"
   ]
  },
  {
   "cell_type": "code",
   "execution_count": 11,
   "metadata": {},
   "outputs": [],
   "source": [
    "# recode EMPSTAT\n",
    "df['EMPSTAT'] = df['EMPSTAT'].astype(object)\n",
    "df.loc[df['EMPSTAT'] == 100, 'EMPSTAT'] = 'Employed'\n",
    "df.loc[df['EMPSTAT'] == 0, 'EMPSTAT'] = np.nan\n",
    "df.loc[df['EMPSTAT'] == 200, 'EMPSTAT'] = 'Not Employed'\n",
    "df.loc[df['EMPSTAT'] == 999, 'EMPSTAT'] = np.nan\n",
    "df.loc[df['EMPSTAT'] == 'Not Employed', 'EMPSTAT'] = 0\n",
    "df.loc[df['EMPSTAT'] == 'Employed', 'EMPSTAT'] = 1"
   ]
  },
  {
   "cell_type": "code",
   "execution_count": 12,
   "metadata": {},
   "outputs": [],
   "source": [
    "df.loc[df['HOURSWRK'].isin([97, 98, 99]), 'HOURSWRK'] = np.nan"
   ]
  },
  {
   "cell_type": "code",
   "execution_count": 13,
   "metadata": {},
   "outputs": [],
   "source": [
    "# recode GOTRET\n",
    "df['GOTRET'] = df['GOTRET'].astype(object)\n",
    "df.loc[df['GOTRET'] == 2, 'GOTRET'] = 'SSDI'\n",
    "df.loc[df['GOTRET'] == 1, 'GOTRET'] = 'SSI'\n",
    "df.loc[df['GOTRET'].isin([9, 0, 7, 8]), 'GOTRET'] = np.nan"
   ]
  },
  {
   "cell_type": "code",
   "execution_count": 15,
   "metadata": {},
   "outputs": [],
   "source": [
    "# recode HEALTH\n",
    "df['HEALTH'] = df['HEALTH'].astype(object)\n",
    "df.loc[df['HEALTH'] == 3, 'HEALTH'] = 'Good'\n",
    "df.loc[df['HEALTH'] == 2, 'HEALTH'] = 'Very Good'\n",
    "df.loc[df['HEALTH'] == 1, 'HEALTH'] = 'Excellent'\n",
    "df.loc[df['HEALTH'] == 4, 'HEALTH'] = 'Fair'\n",
    "df.loc[df['HEALTH'] == 5, 'HEALTH'] = 'Poor'\n",
    "df.loc[df['HEALTH'].isin([7, 9]), 'HEALTH'] = np.nan"
   ]
  },
  {
   "cell_type": "code",
   "execution_count": 16,
   "metadata": {},
   "outputs": [],
   "source": [
    "df['DVINT'] = df['DVINT'].replace({\n",
    "    100: 'Never',\n",
    "    200: 'Less than 1 year',\n",
    "    201: 'Visits in the past 2 weeks',\n",
    "    202: '2 weeks to less than 6 months',\n",
    "    203: 'Under 6 months',\n",
    "    204: '6 months to less than 12 months',\n",
    "    300: '1 year or more',\n",
    "    301: '1 year',\n",
    "    302: '1 year to less than 2 years',\n",
    "    303: '1 year to less than 3 years',\n",
    "    304: '2 years to less than 3 years',\n",
    "    305: '2 years to less than 5 years',\n",
    "    306: '2 years',\n",
    "    307: '2 to 4 years',\n",
    "    308: '3 to 4 years',\n",
    "    309: '3 years to less than 5 years',\n",
    "    310: 'More than 3 years',\n",
    "    400: '5 years or more',\n",
    "    401: '5 to 9 years',\n",
    "    402: 'More than 10 years'\n",
    "}).where(df['DVINT'].isin(range(100,403)), np.nan)\n",
    "\n",
    "df['URGCAREYRNO'] = df['URGCAREYRNO'].replace({\n",
    "    0: '0 times',\n",
    "    1: '1 time',\n",
    "    2: '2 times',\n",
    "    3: '3 times',\n",
    "    4: '4 times',\n",
    "    5: '5+ times',\n",
    "}).where(df['URGCAREYRNO'].isin(range(0,6)), np.nan)\n",
    "\n",
    "df['ERYRNO'] = df['ERYRNO'].replace({\n",
    "    10: 'No visits',\n",
    "    20: '1 visit',\n",
    "    30: '2 to 3 visits',\n",
    "    31: '2 visits',\n",
    "    32: '3 visits',\n",
    "    40: '4 or more visits',\n",
    "    41: '4 to 9 visits',\n",
    "    42: '4 to 5 visits',\n",
    "    43: '6 to 7 visits',\n",
    "    44: '8 to 9 visits',\n",
    "    45: '10 to 12 visits',\n",
    "    46: '13 or more visits',\n",
    "    47: '13 to 15 visits',\n",
    "    48: '16 or more visits'\n",
    "}).where(df['ERYRNO'].isin(range(10,49)), np.nan)\n",
    "\n",
    "df['WORMEDBILL'] = df['WORMEDBILL'].replace({\n",
    "    1: 'Very worried',\n",
    "    2: 'Somewhat worried',\n",
    "    3: 'Not at all worried'\n",
    "}).where(df['WORMEDBILL'].isin(range(1,4)), np.nan)\n",
    "\n",
    "df['HICHIPE'] = np.select(\n",
    "    [df['HICHIPE'] == 10, df['HICHIPE'].isin(range(20, 23))],\n",
    "    [0, 1],\n",
    "    default=np.nan\n",
    ")\n",
    "\n",
    "df['HIMILITE'] = np.select(\n",
    "    [df['HIMILITE'] == 10, df['HIMILITE'].isin(range(20, 26))],\n",
    "    [0, 1],\n",
    "    default=np.nan\n",
    ")\n",
    "\n",
    "df['GOTWELF'] = np.select(\n",
    "    [df['GOTWELF'] == 21, df['GOTWELF']==10],\n",
    "    [0, 1],\n",
    "    default=np.nan\n",
    ")\n",
    "\n"
   ]
  },
  {
   "cell_type": "code",
   "execution_count": null,
   "metadata": {},
   "outputs": [],
   "source": [
    "# change vars values from 1,2 to 0,1\n",
    "def replace_yes_no(column):\n",
    "    return column.replace({1: 0, 2: 1}).where(column.isin([1, 2]), np.nan).astype('Int64')\n",
    "\n",
    "cols_to_replace = ['MDEXUPADV','ARTHGLUPEV', 'ASTHMAEV', 'HOSPNGHT','THERAPYR','SAWMENT',\n",
    "                   'DELAYCOST', 'DELAYINS','YDELAYMEDYR','YSKIMPMEDYR','YSKIPMEDYR', 'HIPROBPAYR',\n",
    "                   'HINOTCOVE', 'EMPHI','CHEARTDIEV', 'CHRFATIGEV', 'CHOLHIGHEV', 'DEMENTIAEV',\n",
    "                   'DEPRESSEV', 'DIABETICEV','HEARTATTEV', 'HYPERTENEV','STROKEV', 'COPDEV',\n",
    "                   'IMSPCHC', 'HRAUSES','GLASSLENS', 'CANCEREV', 'GOTSSISSDI', 'YDELAYMENTAL','FAMKIDNO']\n",
    "df[cols_to_replace] = df[cols_to_replace].apply(replace_yes_no)\n",
    "\n"
   ]
  },
  {
   "cell_type": "code",
   "execution_count": 18,
   "metadata": {},
   "outputs": [],
   "source": [
    "df['EMPHI'] = df['EMPHI'].apply(lambda x: 1 if x == 2 else 0)\n"
   ]
  },
  {
   "cell_type": "code",
   "execution_count": 19,
   "metadata": {},
   "outputs": [],
   "source": [
    "# recode ALCANYTP\n",
    "df['ALCANYTP'] = df['ALCANYTP'].replace({\n",
    "    1: 'Every day',\n",
    "    2: 'Week',\n",
    "    3: 'Month',\n",
    "    4: 'Year',\n",
    "    5: 'Never/None'\n",
    "}).where(df['ALCANYTP'].isin(range(1,6)), np.nan)\n",
    "\n",
    "df['ALCANYTP'] = df['ALCANYTP'].fillna(0)\n",
    "\n",
    "# recode SMOKFREQNOW\n",
    "df['SMOKFREQNOW'] = df['SMOKFREQNOW'].replace({\n",
    "    1: 'Not at all',\n",
    "    2: 'Some days',\n",
    "    3: 'Every day',\n",
    "}).where(df['SMOKFREQNOW'].isin(range(1,4)), np.nan)\n",
    "\n",
    "df['SMOKFREQNOW'] = df['SMOKFREQNOW'].fillna(0)\n",
    "df['YSKIMPMEDYR'] = df['YSKIMPMEDYR'].fillna(0)\n",
    "df['YSKIPMEDYR'] = df['YSKIPMEDYR'].fillna(0)\n",
    "df['YDELAYMEDYR'] = df['YDELAYMEDYR'].fillna(0)\n",
    "\n",
    "# recode LAMTWRK\n",
    "df['LAMTWRK'] = df['LAMTWRK'].replace({\n",
    "    1: 'Not limited in work',\n",
    "    2: 'Limited in kind/amt of work',\n",
    "    3: 'Unable to work',\n",
    "}).where(df['LAMTWRK'].isin(range(1,4)), np.nan)\n",
    "\n",
    "df = df[df['BMICALC'] != 996]\n",
    "df = df[~df['GOTSSISSDI'].isin([7, 8, 9])]\n"
   ]
  },
  {
   "cell_type": "code",
   "execution_count": null,
   "metadata": {},
   "outputs": [
    {
     "name": "stdout",
     "output_type": "stream",
     "text": [
      "3061(19.51%) individuals responded 'Unknown' when asked for the out-of-pocket premium cost of their primary insurance plan.\n",
      "111(0.71%) individuals responded 'Unknown' when asked for the out-of-pocket premium cost of their secondary insurance plan.\n",
      "3114(19.85%) individuals responded 'Unknown' for either out-of-pocket premium cost of their primary or secondary insurance plan.\n"
     ]
    }
   ],
   "source": [
    "num_samples = df.shape[0]\n",
    "\n",
    "# replacing \"Unknown-refused\", \"Unknown-not ascertained\", and \"Unknown-don't know\" responses with N/A\n",
    "df.loc[df['HIP1COST'].isin([99997,99998,99999]),'HIP1COST'] = np.nan\n",
    "df.loc[df['HIP2COST'].isin([99997,99998,99999]),'HIP2COST'] = np.nan\n",
    "\n",
    "# COUNTING # OF 'UNKNOWN' RESPONSES FOR HIP1COST AND/OR HIP2COST\n",
    "num_na_hip1cost = df['HIP1COST'].isna().sum()\n",
    "num_na_hip2cost = df['HIP2COST'].isna().sum()\n",
    "print(f\"{num_na_hip1cost}({(100*num_na_hip1cost/num_samples):.2f}%) individuals responded 'Unknown' when asked for the out-of-pocket premium cost of their primary insurance plan.\")\n",
    "print(f\"{num_na_hip2cost}({(100*num_na_hip2cost/num_samples):.2f}%) individuals responded 'Unknown' when asked for the out-of-pocket premium cost of their secondary insurance plan.\")\n",
    "\n",
    "# total number of rows for which HIP1COST or HIP2COST is unknown\n",
    "num_na_hipcost = (df['HIP1COST'].isna() | df['HIP2COST'].isna()).sum()\n",
    "print(f\"{num_na_hipcost}({(100*num_na_hipcost/num_samples):.2f}%) individuals responded 'Unknown' for either out-of-pocket premium cost of their primary or secondary insurance plan.\")"
   ]
  },
  {
   "cell_type": "code",
   "execution_count": null,
   "metadata": {},
   "outputs": [],
   "source": [
    "# MISSINGNESS - dropping the rows for which HIP1COST or HIP2COST is unknown \n",
    "df.drop(df[(df['HIP1COST'].isna() | df['HIP2COST'].isna())].index,inplace=True)"
   ]
  },
  {
   "cell_type": "code",
   "execution_count": 25,
   "metadata": {},
   "outputs": [],
   "source": [
    "# combining HIP1COST and HIP2COST into one response variable for the total out-of-pocket cost\n",
    "df['HIPCOST'] = df['HIP1COST']+df['HIP2COST']"
   ]
  },
  {
   "cell_type": "code",
   "execution_count": 43,
   "metadata": {},
   "outputs": [
    {
     "data": {
      "text/plain": [
       "<Figure size 1000x600 with 0 Axes>"
      ]
     },
     "metadata": {},
     "output_type": "display_data"
    },
    {
     "data": {
      "image/png": "[encoded data removed]",
      "text/plain": [
       "<Figure size 500x500 with 1 Axes>"
      ]
     },
     "metadata": {},
     "output_type": "display_data"
    }
   ],
   "source": [
    "plt.figure(figsize=(10, 6))\n",
    "age_bins = pd.cut(df['AGE'],bins=np.arange(10,90,10))\n",
    "df['AGE_BINS'] = pd.Categorical(age_bins,ordered=True)\n",
    "\n",
    "age_counts = df.groupby('AGE_BINS',observed=False)['SEX'].value_counts().unstack().reset_index()\n",
    "age_counts['AGE_BINS'] = age_counts['AGE_BINS'].astype(str)\n",
    "age_counts = age_counts.melt(id_vars=\"AGE_BINS\", value_vars=[\"Female\", \"Male\"], var_name=\"SEX\", value_name=\"COUNT\")\n",
    "\n",
    "age_sex_plot = sns.catplot(data=age_counts, x=\"AGE_BINS\", y=\"COUNT\", hue=\"SEX\",kind='bar',legend_out=False)\n",
    "plt.legend(loc=\"upper left\", bbox_to_anchor=(1, 1));"
   ]
  },
  {
   "cell_type": "code",
   "execution_count": 46,
   "metadata": {},
   "outputs": [
    {
     "data": {
      "text/plain": [
       "<Axes: xlabel='REGION', ylabel='HIPCOST'>"
      ]
     },
     "execution_count": 46,
     "metadata": {},
     "output_type": "execute_result"
    },
    {
     "data": {
      "image/png": "[encoded data removed]",
      "text/plain": [
       "<Figure size 1000x600 with 1 Axes>"
      ]
     },
     "metadata": {},
     "output_type": "display_data"
    }
   ],
   "source": [
    "plt.figure(figsize=(10, 6))\n",
    "region_counts = df.groupby('REGION',observed=False).count()['HIPCOST']\n",
    "sns.barplot(region_counts)"
   ]
  },
  {
   "cell_type": "code",
   "execution_count": 50,
   "metadata": {},
   "outputs": [
    {
     "data": {
      "image/png": "[encoded data removed]",
      "text/plain": [
       "<Figure size 1200x800 with 1 Axes>"
      ]
     },
     "metadata": {},
     "output_type": "display_data"
    }
   ],
   "source": [
    "plt.figure(figsize=(12, 8))  \n",
    "\n",
    "race_counts = df['RACENEW'].value_counts()\n",
    "\n",
    "sns.barplot(y=race_counts.index, x=race_counts.values, color='lightblue', edgecolor='black')\n",
    "\n",
    "plt.title('Count of Individuals by Race')\n",
    "plt.xlabel('Count')\n",
    "plt.ylabel('Race')\n",
    "plt.grid(axis='x', alpha=0.3)\n",
    "\n",
    "plt.show()"
   ]
  }
 ],
 "metadata": {
  "kernelspec": {
   "display_name": "Python (cs109a)",
   "language": "python",
   "name": "cs109a"
  },
  "language_info": {
   "codemirror_mode": {
    "name": "ipython",
    "version": 3
   },
   "file_extension": ".py",
   "mimetype": "text/x-python",
   "name": "python",
   "nbconvert_exporter": "python",
   "pygments_lexer": "ipython3",
   "version": "3.12.6"
  }
 },
 "nbformat": 4,
 "nbformat_minor": 2
}
